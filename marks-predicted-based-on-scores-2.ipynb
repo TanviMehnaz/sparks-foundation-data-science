{
 "cells": [
  {
   "cell_type": "code",
   "execution_count": 1,
   "id": "196afde7",
   "metadata": {
    "_cell_guid": "b1076dfc-b9ad-4769-8c92-a6c4dae69d19",
    "_uuid": "8f2839f25d086af736a60e9eeb907d3b93b6e0e5",
    "execution": {
     "iopub.execute_input": "2024-05-21T16:03:42.854449Z",
     "iopub.status.busy": "2024-05-21T16:03:42.853304Z",
     "iopub.status.idle": "2024-05-21T16:03:43.926522Z",
     "shell.execute_reply": "2024-05-21T16:03:43.924614Z"
    },
    "papermill": {
     "duration": 1.082498,
     "end_time": "2024-05-21T16:03:43.929667",
     "exception": false,
     "start_time": "2024-05-21T16:03:42.847169",
     "status": "completed"
    },
    "tags": []
   },
   "outputs": [
    {
     "name": "stdout",
     "output_type": "stream",
     "text": [
      "/kaggle/input/two-variables-data-set-of-hours-and-scores/Students_data.txt\n"
     ]
    }
   ],
   "source": [
    "# This Python 3 environment comes with many helpful analytics libraries installed\n",
    "# It is defined by the kaggle/python Docker image: https://github.com/kaggle/docker-python\n",
    "# For example, here's several helpful packages to load\n",
    "\n",
    "import numpy as np # linear algebra\n",
    "import pandas as pd # data processing, CSV file I/O (e.g. pd.read_csv)\n",
    "\n",
    "# Input data files are available in the read-only \"../input/\" directory\n",
    "# For example, running this (by clicking run or pressing Shift+Enter) will list all files under the input directory\n",
    "\n",
    "import os\n",
    "for dirname, _, filenames in os.walk('/kaggle/input'):\n",
    "    for filename in filenames:\n",
    "        print(os.path.join(dirname, filename))\n",
    "\n",
    "# You can write up to 20GB to the current directory (/kaggle/working/) that gets preserved as output when you create a version using \"Save & Run All\" \n",
    "# You can also write temporary files to /kaggle/temp/, but they won't be saved outside of the current session"
   ]
  },
  {
   "cell_type": "code",
   "execution_count": 2,
   "id": "162de03d",
   "metadata": {
    "execution": {
     "iopub.execute_input": "2024-05-21T16:03:43.942588Z",
     "iopub.status.busy": "2024-05-21T16:03:43.941032Z",
     "iopub.status.idle": "2024-05-21T16:03:45.293899Z",
     "shell.execute_reply": "2024-05-21T16:03:45.292720Z"
    },
    "papermill": {
     "duration": 1.361883,
     "end_time": "2024-05-21T16:03:45.296366",
     "exception": false,
     "start_time": "2024-05-21T16:03:43.934483",
     "status": "completed"
    },
    "tags": []
   },
   "outputs": [],
   "source": [
    "import matplotlib.pyplot as plt\n",
    "import pandas as pd\n",
    "import numpy as np\n",
    "from sklearn.model_selection import train_test_split\n",
    "from sklearn.linear_model import LinearRegression\n",
    "from sklearn import metrics"
   ]
  },
  {
   "cell_type": "code",
   "execution_count": 3,
   "id": "9726b5b4",
   "metadata": {
    "execution": {
     "iopub.execute_input": "2024-05-21T16:03:45.306794Z",
     "iopub.status.busy": "2024-05-21T16:03:45.306357Z",
     "iopub.status.idle": "2024-05-21T16:03:45.311311Z",
     "shell.execute_reply": "2024-05-21T16:03:45.310211Z"
    },
    "papermill": {
     "duration": 0.012886,
     "end_time": "2024-05-21T16:03:45.313660",
     "exception": false,
     "start_time": "2024-05-21T16:03:45.300774",
     "status": "completed"
    },
    "tags": []
   },
   "outputs": [],
   "source": [
    "# Correct path to your dataset\n",
    "placement = \"/kaggle/input/two-variables-data-set-of-hours-and-scores/Students_data.txt\""
   ]
  },
  {
   "cell_type": "code",
   "execution_count": 4,
   "id": "bc9417e4",
   "metadata": {
    "execution": {
     "iopub.execute_input": "2024-05-21T16:03:45.324154Z",
     "iopub.status.busy": "2024-05-21T16:03:45.323789Z",
     "iopub.status.idle": "2024-05-21T16:03:45.345489Z",
     "shell.execute_reply": "2024-05-21T16:03:45.344498Z"
    },
    "papermill": {
     "duration": 0.029866,
     "end_time": "2024-05-21T16:03:45.348074",
     "exception": false,
     "start_time": "2024-05-21T16:03:45.318208",
     "status": "completed"
    },
    "tags": []
   },
   "outputs": [],
   "source": [
    "# Load the dataset\n",
    "df = pd.read_csv(placement)"
   ]
  },
  {
   "cell_type": "code",
   "execution_count": 5,
   "id": "35e88ff1",
   "metadata": {
    "execution": {
     "iopub.execute_input": "2024-05-21T16:03:45.359292Z",
     "iopub.status.busy": "2024-05-21T16:03:45.358272Z",
     "iopub.status.idle": "2024-05-21T16:03:45.393956Z",
     "shell.execute_reply": "2024-05-21T16:03:45.392899Z"
    },
    "papermill": {
     "duration": 0.043463,
     "end_time": "2024-05-21T16:03:45.396268",
     "exception": false,
     "start_time": "2024-05-21T16:03:45.352805",
     "status": "completed"
    },
    "tags": []
   },
   "outputs": [
    {
     "name": "stdout",
     "output_type": "stream",
     "text": [
      "   Hours  Scores\n",
      "0    2.5      21\n",
      "1    5.1      47\n",
      "2    3.2      27\n",
      "3    8.5      75\n",
      "4    3.5      30\n",
      "<class 'pandas.core.frame.DataFrame'>\n",
      "RangeIndex: 25 entries, 0 to 24\n",
      "Data columns (total 2 columns):\n",
      " #   Column  Non-Null Count  Dtype  \n",
      "---  ------  --------------  -----  \n",
      " 0   Hours   25 non-null     float64\n",
      " 1   Scores  25 non-null     int64  \n",
      "dtypes: float64(1), int64(1)\n",
      "memory usage: 528.0 bytes\n",
      "None\n"
     ]
    }
   ],
   "source": [
    "# Display the first few rows and info of the dataframe\n",
    "print(df.head())\n",
    "print(df.info())"
   ]
  },
  {
   "cell_type": "code",
   "execution_count": 6,
   "id": "857637d4",
   "metadata": {
    "execution": {
     "iopub.execute_input": "2024-05-21T16:03:45.406755Z",
     "iopub.status.busy": "2024-05-21T16:03:45.406346Z",
     "iopub.status.idle": "2024-05-21T16:03:45.725127Z",
     "shell.execute_reply": "2024-05-21T16:03:45.723766Z"
    },
    "papermill": {
     "duration": 0.326806,
     "end_time": "2024-05-21T16:03:45.727497",
     "exception": false,
     "start_time": "2024-05-21T16:03:45.400691",
     "status": "completed"
    },
    "tags": []
   },
   "outputs": [
    {
     "data": {
      "image/png": "[encoded data removed]",
      "text/plain": [
       "<Figure size 640x480 with 1 Axes>"
      ]
     },
     "metadata": {},
     "output_type": "display_data"
    }
   ],
   "source": [
    "# Scatter plot of Hours vs Scores\n",
    "plt.scatter(df['Hours'], df['Scores'])\n",
    "plt.xlabel('hours')\n",
    "plt.ylabel('scores')\n",
    "plt.show()"
   ]
  },
  {
   "cell_type": "code",
   "execution_count": 7,
   "id": "f2aa6853",
   "metadata": {
    "execution": {
     "iopub.execute_input": "2024-05-21T16:03:45.738487Z",
     "iopub.status.busy": "2024-05-21T16:03:45.738064Z",
     "iopub.status.idle": "2024-05-21T16:03:45.746060Z",
     "shell.execute_reply": "2024-05-21T16:03:45.744911Z"
    },
    "papermill": {
     "duration": 0.016166,
     "end_time": "2024-05-21T16:03:45.748352",
     "exception": false,
     "start_time": "2024-05-21T16:03:45.732186",
     "status": "completed"
    },
    "tags": []
   },
   "outputs": [],
   "source": [
    "# Preparing the data\n",
    "X = df[['Hours']]\n",
    "Y = df['Scores']\n"
   ]
  },
  {
   "cell_type": "code",
   "execution_count": 8,
   "id": "294c6b2c",
   "metadata": {
    "execution": {
     "iopub.execute_input": "2024-05-21T16:03:45.759706Z",
     "iopub.status.busy": "2024-05-21T16:03:45.759286Z",
     "iopub.status.idle": "2024-05-21T16:03:45.769154Z",
     "shell.execute_reply": "2024-05-21T16:03:45.768039Z"
    },
    "papermill": {
     "duration": 0.018501,
     "end_time": "2024-05-21T16:03:45.771651",
     "exception": false,
     "start_time": "2024-05-21T16:03:45.753150",
     "status": "completed"
    },
    "tags": []
   },
   "outputs": [],
   "source": [
    "# Splitting the dataset into the Training set and Test set\n",
    "X_train, X_test, Y_train, Y_test = train_test_split(X, Y, test_size=0.2, random_state=0)"
   ]
  },
  {
   "cell_type": "code",
   "execution_count": 9,
   "id": "652b335c",
   "metadata": {
    "execution": {
     "iopub.execute_input": "2024-05-21T16:03:45.782567Z",
     "iopub.status.busy": "2024-05-21T16:03:45.782159Z",
     "iopub.status.idle": "2024-05-21T16:03:45.806273Z",
     "shell.execute_reply": "2024-05-21T16:03:45.805264Z"
    },
    "papermill": {
     "duration": 0.032311,
     "end_time": "2024-05-21T16:03:45.808626",
     "exception": false,
     "start_time": "2024-05-21T16:03:45.776315",
     "status": "completed"
    },
    "tags": []
   },
   "outputs": [
    {
     "data": {
      "text/html": [
       "<style>#sk-container-id-1 {color: black;background-color: white;}#sk-container-id-1 pre{padding: 0;}#sk-container-id-1 div.sk-toggleable {background-color: white;}#sk-container-id-1 label.sk-toggleable__label {cursor: pointer;display: block;width: 100%;margin-bottom: 0;padding: 0.3em;box-sizing: border-box;text-align: center;}#sk-container-id-1 label.sk-toggleable__label-arrow:before {content: \"▸\";float: left;margin-right: 0.25em;color: #696969;}#sk-container-id-1 label.sk-toggleable__label-arrow:hover:before {color: black;}#sk-container-id-1 div.sk-estimator:hover label.sk-toggleable__label-arrow:before {color: black;}#sk-container-id-1 div.sk-toggleable__content {max-height: 0;max-width: 0;overflow: hidden;text-align: left;background-color: #f0f8ff;}#sk-container-id-1 div.sk-toggleable__content pre {margin: 0.2em;color: black;border-radius: 0.25em;background-color: #f0f8ff;}#sk-container-id-1 input.sk-toggleable__control:checked~div.sk-toggleable__content {max-height: 200px;max-width: 100%;overflow: auto;}#sk-container-id-1 input.sk-toggleable__control:checked~label.sk-toggleable__label-arrow:before {content: \"▾\";}#sk-container-id-1 div.sk-estimator input.sk-toggleable__control:checked~label.sk-toggleable__label {background-color: #d4ebff;}#sk-container-id-1 div.sk-label input.sk-toggleable__control:checked~label.sk-toggleable__label {background-color: #d4ebff;}#sk-container-id-1 input.sk-hidden--visually {border: 0;clip: rect(1px 1px 1px 1px);clip: rect(1px, 1px, 1px, 1px);height: 1px;margin: -1px;overflow: hidden;padding: 0;position: absolute;width: 1px;}#sk-container-id-1 div.sk-estimator {font-family: monospace;background-color: #f0f8ff;border: 1px dotted black;border-radius: 0.25em;box-sizing: border-box;margin-bottom: 0.5em;}#sk-container-id-1 div.sk-estimator:hover {background-color: #d4ebff;}#sk-container-id-1 div.sk-parallel-item::after {content: \"\";width: 100%;border-bottom: 1px solid gray;flex-grow: 1;}#sk-container-id-1 div.sk-label:hover label.sk-toggleable__label {background-color: #d4ebff;}#sk-container-id-1 div.sk-serial::before {content: \"\";position: absolute;border-left: 1px solid gray;box-sizing: border-box;top: 0;bottom: 0;left: 50%;z-index: 0;}#sk-container-id-1 div.sk-serial {display: flex;flex-direction: column;align-items: center;background-color: white;padding-right: 0.2em;padding-left: 0.2em;position: relative;}#sk-container-id-1 div.sk-item {position: relative;z-index: 1;}#sk-container-id-1 div.sk-parallel {display: flex;align-items: stretch;justify-content: center;background-color: white;position: relative;}#sk-container-id-1 div.sk-item::before, #sk-container-id-1 div.sk-parallel-item::before {content: \"\";position: absolute;border-left: 1px solid gray;box-sizing: border-box;top: 0;bottom: 0;left: 50%;z-index: -1;}#sk-container-id-1 div.sk-parallel-item {display: flex;flex-direction: column;z-index: 1;position: relative;background-color: white;}#sk-container-id-1 div.sk-parallel-item:first-child::after {align-self: flex-end;width: 50%;}#sk-container-id-1 div.sk-parallel-item:last-child::after {align-self: flex-start;width: 50%;}#sk-container-id-1 div.sk-parallel-item:only-child::after {width: 0;}#sk-container-id-1 div.sk-dashed-wrapped {border: 1px dashed gray;margin: 0 0.4em 0.5em 0.4em;box-sizing: border-box;padding-bottom: 0.4em;background-color: white;}#sk-container-id-1 div.sk-label label {font-family: monospace;font-weight: bold;display: inline-block;line-height: 1.2em;}#sk-container-id-1 div.sk-label-container {text-align: center;}#sk-container-id-1 div.sk-container {/* jupyter's `normalize.less` sets `[hidden] { display: none; }` but bootstrap.min.css set `[hidden] { display: none !important; }` so we also need the `!important` here to be able to override the default hidden behavior on the sphinx rendered scikit-learn.org. See: https://github.com/scikit-learn/scikit-learn/issues/21755 */display: inline-block !important;position: relative;}#sk-container-id-1 div.sk-text-repr-fallback {display: none;}</style><div id=\"sk-container-id-1\" class=\"sk-top-container\"><div class=\"sk-text-repr-fallback\"><pre>LinearRegression()</pre><b>In a Jupyter environment, please rerun this cell to show the HTML representation or trust the notebook. <br />On GitHub, the HTML representation is unable to render, please try loading this page with nbviewer.org.</b></div><div class=\"sk-container\" hidden><div class=\"sk-item\"><div class=\"sk-estimator sk-toggleable\"><input class=\"sk-toggleable__control sk-hidden--visually\" id=\"sk-estimator-id-1\" type=\"checkbox\" checked><label for=\"sk-estimator-id-1\" class=\"sk-toggleable__label sk-toggleable__label-arrow\">LinearRegression</label><div class=\"sk-toggleable__content\"><pre>LinearRegression()</pre></div></div></div></div></div>"
      ],
      "text/plain": [
       "LinearRegression()"
      ]
     },
     "execution_count": 9,
     "metadata": {},
     "output_type": "execute_result"
    }
   ],
   "source": [
    "# Training the Linear Regression model on the Training set\n",
    "lr = LinearRegression()\n",
    "lr.fit(X_train, Y_train)"
   ]
  },
  {
   "cell_type": "code",
   "execution_count": 10,
   "id": "8d687f72",
   "metadata": {
    "execution": {
     "iopub.execute_input": "2024-05-21T16:03:45.819916Z",
     "iopub.status.busy": "2024-05-21T16:03:45.819536Z",
     "iopub.status.idle": "2024-05-21T16:03:45.827088Z",
     "shell.execute_reply": "2024-05-21T16:03:45.826086Z"
    },
    "papermill": {
     "duration": 0.015643,
     "end_time": "2024-05-21T16:03:45.829193",
     "exception": false,
     "start_time": "2024-05-21T16:03:45.813550",
     "status": "completed"
    },
    "tags": []
   },
   "outputs": [
    {
     "name": "stdout",
     "output_type": "stream",
     "text": [
      "Predicted score for [1.5] hours of study: 16.884144762398023\n"
     ]
    }
   ],
   "source": [
    "# Predicting the Test set results\n",
    "Y_pred = lr.predict(X_test)\n",
    "print(f\"Predicted score for {X_test.iloc[0].values} hours of study: {Y_pred[0]}\")\n"
   ]
  },
  {
   "cell_type": "code",
   "execution_count": 11,
   "id": "21fe0f6d",
   "metadata": {
    "execution": {
     "iopub.execute_input": "2024-05-21T16:03:45.841333Z",
     "iopub.status.busy": "2024-05-21T16:03:45.840459Z",
     "iopub.status.idle": "2024-05-21T16:03:45.846688Z",
     "shell.execute_reply": "2024-05-21T16:03:45.845672Z"
    },
    "papermill": {
     "duration": 0.014817,
     "end_time": "2024-05-21T16:03:45.849087",
     "exception": false,
     "start_time": "2024-05-21T16:03:45.834270",
     "status": "completed"
    },
    "tags": []
   },
   "outputs": [
    {
     "name": "stdout",
     "output_type": "stream",
     "text": [
      "Mean Absolute Error: 4.183859899002982\n"
     ]
    }
   ],
   "source": [
    "# Calculating Mean Absolute Error\n",
    "mae = metrics.mean_absolute_error(Y_test, Y_pred)\n",
    "print('Mean Absolute Error:', mae)\n"
   ]
  },
  {
   "cell_type": "code",
   "execution_count": 12,
   "id": "1c74f7dd",
   "metadata": {
    "execution": {
     "iopub.execute_input": "2024-05-21T16:03:45.860860Z",
     "iopub.status.busy": "2024-05-21T16:03:45.860481Z",
     "iopub.status.idle": "2024-05-21T16:03:46.196605Z",
     "shell.execute_reply": "2024-05-21T16:03:46.195232Z"
    },
    "papermill": {
     "duration": 0.344944,
     "end_time": "2024-05-21T16:03:46.199092",
     "exception": false,
     "start_time": "2024-05-21T16:03:45.854148",
     "status": "completed"
    },
    "tags": []
   },
   "outputs": [
    {
     "data": {
      "image/png": "[encoded data removed]",
      "text/plain": [
       "<Figure size 1000x600 with 1 Axes>"
      ]
     },
     "metadata": {},
     "output_type": "display_data"
    }
   ],
   "source": [
    "# Visualizing the Training set results with the regression line\n",
    "plt.figure(figsize=(10, 6))\n",
    "plt.scatter(df['Hours'], df['Scores'], label='Data points')\n",
    "plt.plot(X_train, lr.predict(X_train), color='red', label='Regression line')\n",
    "plt.title('Hours vs Scores (Linear Regression)\\nMean Absolute Error: {:.2f}'.format(mae))\n",
    "plt.xlabel('Hours Studied')\n",
    "plt.ylabel('Scores')\n",
    "plt.legend()\n",
    "plt.grid(True)\n",
    "plt.show()"
   ]
  },
  {
   "cell_type": "code",
   "execution_count": 13,
   "id": "a79d95ec",
   "metadata": {
    "execution": {
     "iopub.execute_input": "2024-05-21T16:03:46.212805Z",
     "iopub.status.busy": "2024-05-21T16:03:46.212386Z",
     "iopub.status.idle": "2024-05-21T16:03:46.217977Z",
     "shell.execute_reply": "2024-05-21T16:03:46.216871Z"
    },
    "papermill": {
     "duration": 0.014933,
     "end_time": "2024-05-21T16:03:46.220270",
     "exception": false,
     "start_time": "2024-05-21T16:03:46.205337",
     "status": "completed"
    },
    "tags": []
   },
   "outputs": [],
   "source": [
    "# Function to predict score based on hours of study\n",
    "def predict_score(hours):\n",
    "    # Create a DataFrame with the same column name as the training data\n",
    "    hours_df = pd.DataFrame({'Hours': [hours]})\n",
    "    predicted_score = lr.predict(hours_df)\n",
    "    return predicted_score[0]"
   ]
  },
  {
   "cell_type": "code",
   "execution_count": null,
   "id": "52a9f860",
   "metadata": {
    "execution": {
     "iopub.execute_input": "2024-05-21T16:03:10.743418Z",
     "iopub.status.busy": "2024-05-21T16:03:10.742908Z",
     "iopub.status.idle": "2024-05-21T16:03:10.748891Z",
     "shell.execute_reply": "2024-05-21T16:03:10.747524Z",
     "shell.execute_reply.started": "2024-05-21T16:03:10.743384Z"
    },
    "papermill": {
     "duration": 0.006657,
     "end_time": "2024-05-21T16:03:46.232886",
     "exception": false,
     "start_time": "2024-05-21T16:03:46.226229",
     "status": "completed"
    },
    "tags": []
   },
   "outputs": [],
   "source": [
    "\n",
    "\n"
   ]
  },
  {
   "cell_type": "markdown",
   "id": "330c1150",
   "metadata": {
    "papermill": {
     "duration": 0.005447,
     "end_time": "2024-05-21T16:03:46.244031",
     "exception": false,
     "start_time": "2024-05-21T16:03:46.238584",
     "status": "completed"
    },
    "tags": []
   },
   "source": []
  }
 ],
 "metadata": {
  "kaggle": {
   "accelerator": "none",
   "dataSources": [
    {
     "datasetId": 4300466,
     "sourceId": 7396420,
     "sourceType": "datasetVersion"
    }
   ],
   "dockerImageVersionId": 30698,
   "isGpuEnabled": false,
   "isInternetEnabled": false,
   "language": "python",
   "sourceType": "notebook"
  },
  "kernelspec": {
   "display_name": "Python 3",
   "language": "python",
   "name": "python3"
  },
  "language_info": {
   "codemirror_mode": {
    "name": "ipython",
    "version": 3
   },
   "file_extension": ".py",
   "mimetype": "text/x-python",
   "name": "python",
   "nbconvert_exporter": "python",
   "pygments_lexer": "ipython3",
   "version": "3.10.13"
  },
  "papermill": {
   "default_parameters": {},
   "duration": 6.878801,
   "end_time": "2024-05-21T16:03:46.871649",
   "environment_variables": {},
   "exception": null,
   "input_path": "__notebook__.ipynb",
   "output_path": "__notebook__.ipynb",
   "parameters": {},
   "start_time": "2024-05-21T16:03:39.992848",
   "version": "2.5.0"
  }
 },
 "nbformat": 4,
 "nbformat_minor": 5
}
